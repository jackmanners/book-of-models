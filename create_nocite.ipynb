{
 "cells": [
  {
   "cell_type": "code",
   "execution_count": 6,
   "metadata": {},
   "outputs": [
    {
     "name": "stdout",
     "output_type": "stream",
     "text": [
      "@arel-bundock_marginal_2024, @bai_understanding_2021, @barrett_causal_2023, @belkin_reconciling_2019, @biecek_explanatory_2020, @boykis_what_2023, @brownlee_gentle_2016, @brownlee_gradient_2021, @bycroft_llm_2023, @carpenter_prior_2023, @causalml_causalml_2023, @clark_bayesian_2022, @clark_generalized_2022, @clark_mixed_2023, @clark_practical_2020, @cohen_statistical_2009, @cunningham_causal_2023, @databricks_what_2019, @facure_alves_causal_2022, @fahrmeir_regression_2013, @faraway_linear_2014, @ferrari_beta_2004, @fleuret_little_2023, @fortuner_machine_2023, @gelman_bayesian_2013, @gelman_data_2006, @gelman_regression_2020, @gelman_what_2013, @goodfellow_deep_2016, @google_classification_2024, @google_introduction_2023, @google_machine_2023, @greene_econometric_2017, @grolemund_welcome_2023, @harrell_regression_2015, @hastie_elements_2017, @heiss_marginalia_2022, @howard_practical_2024, @hvitfeldt_feature_2024, @james_introduction_2021, @koenker_galton_2000, @koenker_quantile_2005, @koenker_quantile_2005-1, @kruschke_doing_2010, @kuhn_applied_2023, @kuhn_tidy_2023, @kunzel_metalearners_2019, @lang_mlr3_2019, @masis_interpretable_2023, @mcelreath_statistical_2020, @molnar_interpretable_2023, @morgan_counterfactuals_2014, @murphy_machine_2012, @murphy_probabilistic_2023, @noauthor_are_2015, @pearl_causal_2009, @pearl_causal_2022, @pok_how_2020, @quantmetry_mapie_2024, @roback_beyond_2021, @rovine_peirce_2004, @schmidhuber_annotated_2022, @scikit-learn_116_2023, @scikit-learn_nested_2023, @shevchenko_types_2023, @statquest_with_josh_starmer_gradient_2019, @statquest_with_josh_starmer_stochastic_2019, @ucla_advanced_research_computing_faq_2023, @vanderplas_python_2016, @welchowski_techniques_2022, @wikipedia_relationships_2023, @wood_generalized_2017, @wooldridge_introductory_2012, @zhang_dive_2023\n"
     ]
    }
   ],
   "source": [
    "import re\n",
    "\n",
    "# Specify the path to the \"references.bib\" file\n",
    "file_path = \"references.bib\"\n",
    "\n",
    "# Read the contents of the file\n",
    "with open(file_path, \"r\") as file:\n",
    "    file_contents = file.read()\n",
    "\n",
    "# Use regular expressions to extract the names of the BibTeX references\n",
    "references = re.findall(r'@.*?{(.*?),', file_contents)\n",
    "\n",
    "# Create a comma-separated list of the reference names with \"@\" symbol\n",
    "reference_list = [f\"@{ref}\" for ref in references]\n",
    "reference_list.sort()\n",
    "\n",
    "\n",
    "# Concatenate the list into a single string\n",
    "reference_string = ', '.join(reference_list)\n",
    "\n",
    "# Print the resulting string\n",
    "\n",
    "print(reference_string)\n"
   ]
  }
 ],
 "metadata": {
  "kernelspec": {
   "display_name": "book-of-models",
   "language": "python",
   "name": "python3"
  },
  "language_info": {
   "codemirror_mode": {
    "name": "ipython",
    "version": 3
   },
   "file_extension": ".py",
   "mimetype": "text/x-python",
   "name": "python",
   "nbconvert_exporter": "python",
   "pygments_lexer": "ipython3",
   "version": "3.11.3"
  }
 },
 "nbformat": 4,
 "nbformat_minor": 2
}
